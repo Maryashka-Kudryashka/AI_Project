{
 "cells": [
  {
   "cell_type": "code",
   "execution_count": null,
   "metadata": {
    "collapsed": false
   },
   "outputs": [],
   "source": [
    "import numpy as np\n",
    "import keras\n",
    "import matplotlib.pyplot as plt\n",
    "from keras.utils import np_utils\n",
    "from keras.models import Sequential\n",
    "from keras.layers import Convolution2D, MaxPooling2D, Flatten\n",
    "from keras.layers import Dropout, Dense\n",
    "from keras import backend\n",
    "\n",
    "from sklearn.datasets import load_files\n",
    "from keras.preprocessing.image import ImageDataGenerator, array_to_img, img_to_array, load_img\n",
    "import json\n",
    "import os"
   ]
  },
  {
   "cell_type": "code",
   "execution_count": null,
   "metadata": {
    "collapsed": true
   },
   "outputs": [],
   "source": [
    "def show_image(np_array):\n",
    "    %matplotlib inline\n",
    "    plt.figure()\n",
    "    plt.imshow(np_array, cmap='gray')"
   ]
  },
  {
   "cell_type": "markdown",
   "metadata": {},
   "source": [
    "# Loading the images"
   ]
  },
  {
   "cell_type": "markdown",
   "metadata": {},
   "source": [
    "    x_eq - arrays of pixes of eq's\n",
    "    x_an - arrays of pixes of an's"
   ]
  },
  {
   "cell_type": "code",
   "execution_count": null,
   "metadata": {
    "collapsed": false
   },
   "outputs": [],
   "source": [
    "eq_files = []\n",
    "for root, _, files in os.walk(os.path.normpath('./pics/data')):\n",
    "    for file in files:\n",
    "        eq_files.append(os.path.join(root, file))\n",
    "\n",
    "eq_files = sorted(eq_files, key=lambda b: int(b[b.find(\"_\")+1:b.find(\".\")]))"
   ]
  },
  {
   "cell_type": "code",
   "execution_count": null,
   "metadata": {
    "collapsed": false
   },
   "outputs": [],
   "source": [
    "an_files = []\n",
    "for root, _, files in os.walk(os.path.normpath('./pics/labels')):\n",
    "    for file in files:\n",
    "        an_files.append(os.path.join(root, file))\n",
    "\n",
    "an_files = sorted(an_files, key=lambda b: int(b[b.find(\"_\")+1:b.find(\".\")]))"
   ]
  },
  {
   "cell_type": "markdown",
   "metadata": {},
   "source": [
    "border - is 60% of data"
   ]
  },
  {
   "cell_type": "code",
   "execution_count": null,
   "metadata": {
    "collapsed": false
   },
   "outputs": [],
   "source": [
    "border = int(len(eq_files)*0.6)"
   ]
  },
  {
   "cell_type": "markdown",
   "metadata": {},
   "source": [
    "# Data preprocessing"
   ]
  },
  {
   "cell_type": "code",
   "execution_count": null,
   "metadata": {
    "collapsed": false
   },
   "outputs": [],
   "source": [
    "x_eq = np.array([np.array(load_img(fname, grayscale=True)) for fname in  eq_files])\n",
    "x_an = np.array([np.array(load_img(fname, grayscale=True)) for fname in  an_files])"
   ]
  },
  {
   "cell_type": "code",
   "execution_count": null,
   "metadata": {
    "collapsed": false
   },
   "outputs": [],
   "source": [
    "train_x_eq = x_eq[:border]\n",
    "test_x_eq = x_eq[border:]\n",
    "train_x_an = x_an[:border]\n",
    "test_x_an = x_an[border:]\n"
   ]
  },
  {
   "cell_type": "markdown",
   "metadata": {},
   "source": [
    "data_labels - array with eq and 1/0 if correspondent answer is correct/wrong"
   ]
  },
  {
   "cell_type": "code",
   "execution_count": null,
   "metadata": {
    "collapsed": false
   },
   "outputs": [],
   "source": [
    "with open(\"./pics/binary_labels.json\") as datafile_labels:\n",
    "    data_labels = json.load(datafile_labels)"
   ]
  },
  {
   "cell_type": "code",
   "execution_count": null,
   "metadata": {
    "collapsed": false
   },
   "outputs": [],
   "source": [
    "labels = [data_labels[i] for i in sorted(data_labels.keys(), key=lambda b: int(b[b.find(\"_\")+1:b.find(\".j\")]))]"
   ]
  },
  {
   "cell_type": "code",
   "execution_count": null,
   "metadata": {
    "collapsed": true
   },
   "outputs": [],
   "source": [
    "train_y = labels[:border]\n",
    "test_y = labels[border:]"
   ]
  },
  {
   "cell_type": "markdown",
   "metadata": {},
   "source": [
    "Just to check if everything is OK with a random equation"
   ]
  },
  {
   "cell_type": "code",
   "execution_count": null,
   "metadata": {
    "collapsed": false
   },
   "outputs": [],
   "source": [
    "show_image(train_x_eq[23])\n",
    "train_y[23]"
   ]
  },
  {
   "cell_type": "code",
   "execution_count": null,
   "metadata": {
    "collapsed": false
   },
   "outputs": [],
   "source": [
    "show_image(train_x_an[0])"
   ]
  },
  {
   "cell_type": "code",
   "execution_count": null,
   "metadata": {
    "collapsed": false
   },
   "outputs": [],
   "source": [
    "print(train_x_an.shape)\n",
    "print(train_x_eq.shape)"
   ]
  },
  {
   "cell_type": "code",
   "execution_count": null,
   "metadata": {
    "collapsed": false
   },
   "outputs": [],
   "source": [
    "train_x = []\n",
    "for i in range(len(train_x_eq)):\n",
    "    train_x.append([train_x_eq[i], train_x_an[i]])\n",
    "train_x = np.array(train_x)"
   ]
  },
  {
   "cell_type": "code",
   "execution_count": null,
   "metadata": {
    "collapsed": false
   },
   "outputs": [],
   "source": [
    "test_x = []\n",
    "for i in range(len(test_x_eq)):\n",
    "    test_x.append([test_x_eq[i], test_x_an[i]])\n",
    "test_x = np.array(test_x)"
   ]
  },
  {
   "cell_type": "code",
   "execution_count": null,
   "metadata": {
    "collapsed": false
   },
   "outputs": [],
   "source": [
    "train_y = np_utils.to_categorical(train_y, 2)\n",
    "test_y = np_utils.to_categorical(test_y, 2)"
   ]
  },
  {
   "cell_type": "code",
   "execution_count": null,
   "metadata": {
    "collapsed": false
   },
   "outputs": [],
   "source": [
    "if backend.image_data_format() != 'channels_first':\n",
    "    train_x = train_x.reshape(train_x.shape[0], 28, 165, 2)\n",
    "    test_x = test_x.reshape(test_x.shape[0], 28, 165, 2)\n",
    "    input_shape = (28, 165, 2)\n",
    "\n",
    "train_x = train_x.astype('float32')\n",
    "train_x = train_x/255\n",
    "\n",
    "test_x = test_x.astype('float32')\n",
    "test_x = test_x/255"
   ]
  },
  {
   "cell_type": "code",
   "execution_count": null,
   "metadata": {
    "collapsed": true
   },
   "outputs": [],
   "source": [
    "batch_size = 32\n",
    "epochs = 20"
   ]
  },
  {
   "cell_type": "code",
   "execution_count": null,
   "metadata": {
    "collapsed": false
   },
   "outputs": [],
   "source": [
    "model = Sequential()\n",
    "model.add(Convolution2D(32, (3, 3), activation='relu', input_shape=input_shape))\n",
    "model.add(MaxPooling2D(pool_size=(2,2), data_format=\"channels_first\"))\n",
    "model.add(Convolution2D(64, (3, 3), activation='relu', input_shape=input_shape))\n",
    "model.add(MaxPooling2D(pool_size=(2,2), data_format=\"channels_first\"))\n",
    "model.add(Dropout(0.25))\n",
    "model.add(Convolution2D(128, (3, 3), activation='relu', input_shape=input_shape))\n",
    "model.add(MaxPooling2D(pool_size=(2,2), data_format=\"channels_first\"))\n",
    "model.add(Convolution2D(256, (3, 3), activation='relu', input_shape=input_shape))\n",
    "model.add(MaxPooling2D(pool_size=(2,2), data_format=\"channels_first\"))\n",
    "model.add(Dropout(0.5))\n",
    "\n",
    "model.add(Flatten())\n",
    "model.add(Dense(84,activation='relu'))\n",
    "model.add(Dense(2,activation='softmax'))"
   ]
  },
  {
   "cell_type": "code",
   "execution_count": null,
   "metadata": {
    "collapsed": false
   },
   "outputs": [],
   "source": [
    "model.compile(loss='binary_crossentropy',\n",
    "              optimizer='adam',\n",
    "              metrics=['accuracy'])"
   ]
  },
  {
   "cell_type": "code",
   "execution_count": null,
   "metadata": {
    "collapsed": false
   },
   "outputs": [],
   "source": [
    "print(train_x.shape,  train_y.shape)\n",
    "print(test_x.shape, test_y.shape)\n",
    "print(len(test_y))"
   ]
  },
  {
   "cell_type": "code",
   "execution_count": null,
   "metadata": {
    "collapsed": false
   },
   "outputs": [],
   "source": [
    "model.fit(train_x, train_y, batch_size=batch_size, epochs=epochs, verbose=1, validation_data=(test_x, test_y))"
   ]
  },
  {
   "cell_type": "code",
   "execution_count": null,
   "metadata": {
    "collapsed": false
   },
   "outputs": [],
   "source": [
    "loss,accuracy = model.evaluate(test_x, test_y, verbose=1)\n",
    "print(\"Loss \",loss)\n",
    "print(\"Accuracy \", accuracy)"
   ]
  },
  {
   "cell_type": "code",
   "execution_count": null,
   "metadata": {
    "collapsed": false
   },
   "outputs": [],
   "source": [
    "loss,accuracy = model.evaluate(train_x, train_y, verbose=1)\n",
    "print(\"Loss \",loss)\n",
    "print(\"Accuracy \", accuracy)"
   ]
  }
 ],
 "metadata": {
  "kernelspec": {
   "display_name": "Python 3",
   "language": "python",
   "name": "python3"
  },
  "language_info": {
   "codemirror_mode": {
    "name": "ipython",
    "version": 3
   },
   "file_extension": ".py",
   "mimetype": "text/x-python",
   "name": "python",
   "nbconvert_exporter": "python",
   "pygments_lexer": "ipython3",
   "version": "3.6.3"
  }
 },
 "nbformat": 4,
 "nbformat_minor": 2
}
